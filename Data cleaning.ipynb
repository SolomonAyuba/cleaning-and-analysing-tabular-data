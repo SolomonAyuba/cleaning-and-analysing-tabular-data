{
 "cells": [
  {
   "cell_type": "markdown",
   "id": "77e9c68e-7442-4917-aa78-f591a16b3c04",
   "metadata": {},
   "source": [
    "## DTS 305\n",
    "**Name:** Solomon Ayuba | **Date:** Saturday, 29th March 2025\n"
   ]
  },
  {
   "cell_type": "markdown",
   "id": "5e5128bc-72e6-44ae-bb5d-ba0b4ccbd790",
   "metadata": {},
   "source": [
    "# Overview\n",
    "\n",
    "This project, aimed at solidifying proficiency in data wrangling, web scraping, and feature engineering, consists of two parts, namely:\n",
    "\n",
    "## Part 1: Cleaning and Analysing Tabular Data\n",
    "\n",
    "**Tasks:** Using the provided dataset\n",
    "1. Handle missing values in the `Total Amount` column.\n",
    "2. Remove duplicate rows.\n",
    "3. Standardize the formatting in the `Country` column to ensure uniform values.\n",
    "4. Aggregate total revenue for each product category and visualize it with a bar chart.\n",
    "5. Identify and plot the top 3 countries by total revenue.\n",
    "\n",
    "**Deliverables:**\n",
    "1. A cleaned version of the dataset in CSV format.\n",
    "2. A Jupyter Notebook with detailed steps and code.\n",
    "3. At least two visualizations (e.g., a bar chart of revenue by category, top countries by revenue).\n"
   ]
  },
  {
   "cell_type": "markdown",
   "id": "d05784f5-17c3-428c-890a-aa6442dfb668",
   "metadata": {},
   "source": [
    "\n",
    "## Part 2: Web Scraping and Feature Engineering\n",
    "\n",
    "**Tasks:** Using the provided URL\n",
    "- Use requests and BeautifulSoup to scrape Title, Price, Rating, Availability status for all books on the homepage\n",
    "- Save the extracted data into a pandas DataFrame and export it as a CSV file.\n",
    "- Clean the data:\n",
    "    - Convert prices from strings to numerical values (remove symbols like £).\n",
    "    - Map the ratings (e.g., \"Three\" = 3, \"Five\" = 5) to numerical values.\n",
    "\n",
    "**Feature Engineering:**\n",
    "- Create a new column categorizing books as \"Affordable\" (price < £20) or \"Expensive\" (price ≥ £20).\n",
    "- Calculate the average rating for \"Affordable\" vs. \"Expensive\" books.\n",
    "- Visualize the data:\n",
    "    - Create a pie chart showing the proportion of affordable vs expensive books.\n",
    "    - Plot a bar chart of average ratings by category (Affordable vs Expensive).\n",
    "\n",
    "**Deliverables:**\n",
    "- The final CSV file containing the scraped data.\n",
    "- A Jupyter Notebook with the Python code and a step-by-step explanation.\n",
    "- At least two visualisations (e.g., a pie chart for affordability, bar chart for ratings).\n",
    "\n",
    "***(Refer to separate document for Practical Section)***"
   ]
  },
  {
   "cell_type": "markdown",
   "id": "4f736e79-29e6-4327-a4d0-fa05fdbf7bd3",
   "metadata": {},
   "source": [
    "# Practical Section - Part 1"
   ]
  },
  {
   "cell_type": "code",
   "execution_count": 52,
   "id": "21e0a5f9-2069-4372-acbc-a63ca491c142",
   "metadata": {},
   "outputs": [],
   "source": [
    "# importing the required libraries\n",
    "\n",
    "import pandas as pd\n",
    "import os\n",
    "import matplotlib.pyplot as plt"
   ]
  },
  {
   "cell_type": "code",
   "execution_count": 54,
   "id": "99a3ec47-65fc-4e10-a637-4238931d4b8c",
   "metadata": {},
   "outputs": [
    {
     "data": {
      "text/html": [
       "<div>\n",
       "<style scoped>\n",
       "    .dataframe tbody tr th:only-of-type {\n",
       "        vertical-align: middle;\n",
       "    }\n",
       "\n",
       "    .dataframe tbody tr th {\n",
       "        vertical-align: top;\n",
       "    }\n",
       "\n",
       "    .dataframe thead th {\n",
       "        text-align: right;\n",
       "    }\n",
       "</style>\n",
       "<table border=\"1\" class=\"dataframe\">\n",
       "  <thead>\n",
       "    <tr style=\"text-align: right;\">\n",
       "      <th></th>\n",
       "      <th>Order ID</th>\n",
       "      <th>Customer Name</th>\n",
       "      <th>Order Date</th>\n",
       "      <th>Product Category</th>\n",
       "      <th>Quantity</th>\n",
       "      <th>Price</th>\n",
       "      <th>Total Amount</th>\n",
       "      <th>Country</th>\n",
       "    </tr>\n",
       "  </thead>\n",
       "  <tbody>\n",
       "    <tr>\n",
       "      <th>0</th>\n",
       "      <td>1</td>\n",
       "      <td>Customer 1</td>\n",
       "      <td>2022-06-01</td>\n",
       "      <td>Electronics</td>\n",
       "      <td>5</td>\n",
       "      <td>102.27</td>\n",
       "      <td>511.35</td>\n",
       "      <td>U.S.A.</td>\n",
       "    </tr>\n",
       "    <tr>\n",
       "      <th>1</th>\n",
       "      <td>2</td>\n",
       "      <td>Customer 2</td>\n",
       "      <td>2022-04-28</td>\n",
       "      <td>Fashion</td>\n",
       "      <td>3</td>\n",
       "      <td>195.72</td>\n",
       "      <td>587.16</td>\n",
       "      <td>usa</td>\n",
       "    </tr>\n",
       "    <tr>\n",
       "      <th>2</th>\n",
       "      <td>3</td>\n",
       "      <td>Customer 3</td>\n",
       "      <td>2022-04-08</td>\n",
       "      <td>Home Goods</td>\n",
       "      <td>5</td>\n",
       "      <td>176.54</td>\n",
       "      <td>882.70</td>\n",
       "      <td>U.S.A.</td>\n",
       "    </tr>\n",
       "    <tr>\n",
       "      <th>3</th>\n",
       "      <td>4</td>\n",
       "      <td>Customer 4</td>\n",
       "      <td>2022-10-20</td>\n",
       "      <td>Fashion</td>\n",
       "      <td>5</td>\n",
       "      <td>74.25</td>\n",
       "      <td>371.25</td>\n",
       "      <td>United States</td>\n",
       "    </tr>\n",
       "    <tr>\n",
       "      <th>4</th>\n",
       "      <td>5</td>\n",
       "      <td>Customer 5</td>\n",
       "      <td>2022-06-19</td>\n",
       "      <td>Fashion</td>\n",
       "      <td>3</td>\n",
       "      <td>192.70</td>\n",
       "      <td>578.10</td>\n",
       "      <td>U.S.A.</td>\n",
       "    </tr>\n",
       "  </tbody>\n",
       "</table>\n",
       "</div>"
      ],
      "text/plain": [
       "   Order ID Customer Name  Order Date Product Category  Quantity   Price  \\\n",
       "0         1    Customer 1  2022-06-01      Electronics         5  102.27   \n",
       "1         2    Customer 2  2022-04-28          Fashion         3  195.72   \n",
       "2         3    Customer 3  2022-04-08       Home Goods         5  176.54   \n",
       "3         4    Customer 4  2022-10-20          Fashion         5   74.25   \n",
       "4         5    Customer 5  2022-06-19          Fashion         3  192.70   \n",
       "\n",
       "   Total Amount        Country  \n",
       "0        511.35         U.S.A.  \n",
       "1        587.16            usa  \n",
       "2        882.70         U.S.A.  \n",
       "3        371.25  United States  \n",
       "4        578.10         U.S.A.  "
      ]
     },
     "execution_count": 54,
     "metadata": {},
     "output_type": "execute_result"
    }
   ],
   "source": [
    "# Loading the dataset ('Customer Orders Dataset.CSV' file) and displaying a few of its contents.\n",
    "\n",
    "dataset = '/Users/solomonayuba/Documents/Docs/School /Miva Open University/Data Science Program/300 Level/DTS 305 – 3 – Data Quality and Data Wrangling /LAB/MiniProjectDataset.csv'\n",
    "df = pd.read_csv(dataset)\n",
    "\n",
    "df.head() "
   ]
  },
  {
   "cell_type": "markdown",
   "id": "41079a68-3c4a-45d4-b200-bf97298bbf02",
   "metadata": {},
   "source": [
    "### Task 1: Handle missing values in the `Total Amount` Column"
   ]
  },
  {
   "cell_type": "code",
   "execution_count": 57,
   "id": "3573c9d8-4354-478c-8904-fa78469d81cb",
   "metadata": {},
   "outputs": [
    {
     "name": "stdout",
     "output_type": "stream",
     "text": [
      "Total missing values from the 'Total Amount' Column is: 19\n"
     ]
    }
   ],
   "source": [
    "# Step 1: Verify that there are missing values in the 'Total Amount' column\n",
    "missing_values = df['Total Amount'].isna().sum()\n",
    "print(f\"Total missing values from the 'Total Amount' Column is: {missing_values}\")"
   ]
  },
  {
   "cell_type": "code",
   "execution_count": 59,
   "id": "e0d7122f-db4b-4cf9-a65a-c6aa73e50cca",
   "metadata": {},
   "outputs": [
    {
     "data": {
      "text/plain": [
       "count     81.000000\n",
       "mean     322.520494\n",
       "std      233.834590\n",
       "min       16.720000\n",
       "25%      138.210000\n",
       "50%      283.100000\n",
       "75%      485.550000\n",
       "max      908.800000\n",
       "Name: Total Amount, dtype: float64"
      ]
     },
     "execution_count": 59,
     "metadata": {},
     "output_type": "execute_result"
    }
   ],
   "source": [
    "# Step 2: Determine the best approach in handling the missing values\n",
    "\n",
    "'''\n",
    "The statistics derived from the 'Total Amount' column suggest that filling the missing values with the median(283.1) \n",
    "is ideal because the Median is robust against outliers, while the mean (322.5) is distorted by them. And the max(908.8) \n",
    "from this column is far above the 75th percentile (485.55), suggesting outliers\n",
    "'''\n",
    "totalAmount_stats = df['Total Amount'].describe()\n",
    "totalAmount_stats"
   ]
  },
  {
   "cell_type": "code",
   "execution_count": 61,
   "id": "e33c9a02-2e15-433e-b903-fbf14049129a",
   "metadata": {},
   "outputs": [
    {
     "name": "stdout",
     "output_type": "stream",
     "text": [
      "Total missing values from the 'Total Amount' Column is: 0\n"
     ]
    }
   ],
   "source": [
    "# Step 3: Fill the missing values with the median\n",
    "median_value = df['Total Amount'].median()\n",
    "df['Total Amount'] = df['Total Amount'].fillna(median_value)\n",
    "\n",
    "# Step 4: Verifying that the missing values have been filled\n",
    "missing_values = df['Total Amount'].isna().sum()\n",
    "print(f\"Total missing values from the 'Total Amount' Column is: {missing_values}\")"
   ]
  },
  {
   "cell_type": "markdown",
   "id": "50b46d1e-81ea-46bb-9801-cf9c06de4f87",
   "metadata": {},
   "source": [
    "### Task 2: Remove duplicate rows"
   ]
  },
  {
   "cell_type": "code",
   "execution_count": 64,
   "id": "de64e8af-2bd9-412a-9ab1-c6854b40e000",
   "metadata": {},
   "outputs": [
    {
     "name": "stdout",
     "output_type": "stream",
     "text": [
      "Total Duplicate Rows: #0\n"
     ]
    }
   ],
   "source": [
    "# Step 1: Verify the presence of duplicate rows in the dataset\n",
    "\n",
    "duplicate_rows = df.duplicated().sum()\n",
    "print(F\"Total Duplicate Rows: #{duplicate_rows}\")"
   ]
  },
  {
   "cell_type": "code",
   "execution_count": 66,
   "id": "7471d8fb-a8c9-4b5e-9265-c82884130c38",
   "metadata": {},
   "outputs": [
    {
     "name": "stdout",
     "output_type": "stream",
     "text": [
      "Total Duplicate Customers: 0\n"
     ]
    }
   ],
   "source": [
    "# Step 2: Verify the presence of duplicate rows in the 'Customer Names' column.\n",
    "\n",
    "customer_duplicates = df.duplicated(subset=['Customer Name']).sum()\n",
    "print(F\"Total Duplicate Customers: {customer_duplicates}\")\n",
    "\n",
    "# Since there are no duplicates in the dataset there'll be no need to remove duplicate rows.\n",
    "# In the event there are, this syntax will do the job: df = df.drop_duplicates()\n"
   ]
  },
  {
   "cell_type": "markdown",
   "id": "ba8de916-1fb9-4a65-8b88-197f44d829e4",
   "metadata": {},
   "source": [
    "### Task 3: Standardize the formatting in the Country column to ensure uniform values."
   ]
  },
  {
   "cell_type": "code",
   "execution_count": 69,
   "id": "c5d5bbcd-8e7c-4c2b-8f57-6712370413a0",
   "metadata": {},
   "outputs": [
    {
     "name": "stdout",
     "output_type": "stream",
     "text": [
      " The unique values in 'Country' column are: 3 \n",
      " Namely: ['U.S.A.' 'usa' 'United States']\n"
     ]
    }
   ],
   "source": [
    "# Step 1: Display the unique values in the customer column to standardize by\n",
    "unique_country = df['Country'].unique()\n",
    "\n",
    "print(f\" The unique values in 'Country' column are: {len(unique_country)} \\n Namely: {unique_country}\")"
   ]
  },
  {
   "cell_type": "code",
   "execution_count": 71,
   "id": "ee5d0440-5643-4421-8c85-4b84c3788272",
   "metadata": {},
   "outputs": [
    {
     "name": "stdout",
     "output_type": "stream",
     "text": [
      " Unique values in 'Country' column: ['United States']\n"
     ]
    }
   ],
   "source": [
    "# Step 2: Standardize using replace()\n",
    "\n",
    "df['Country'] = df['Country'].str.strip().str.title() #Normalize case/whitespaces\n",
    "\n",
    "df['Country'] = df['Country'].replace({\n",
    "    'U.S.A.': 'United States',\n",
    "    'usa': 'United States',\n",
    "    'Usa': 'United States'\n",
    "})\n",
    "\n",
    "# verifying outcome\n",
    "print(f\" Unique values in 'Country' column: {df['Country'].unique()}\")"
   ]
  },
  {
   "cell_type": "markdown",
   "id": "e74ac118-e5b1-4f31-b4f1-52ba39726a8b",
   "metadata": {},
   "source": [
    "### Task 4: Aggregate total revenue for each product category and visualise it with a bar chart"
   ]
  },
  {
   "cell_type": "code",
   "execution_count": 50,
   "id": "3b6d89b7-9dcb-4898-9579-7706cb7ff5b4",
   "metadata": {},
   "outputs": [
    {
     "data": {
      "text/html": [
       "<div>\n",
       "<style scoped>\n",
       "    .dataframe tbody tr th:only-of-type {\n",
       "        vertical-align: middle;\n",
       "    }\n",
       "\n",
       "    .dataframe tbody tr th {\n",
       "        vertical-align: top;\n",
       "    }\n",
       "\n",
       "    .dataframe thead th {\n",
       "        text-align: right;\n",
       "    }\n",
       "</style>\n",
       "<table border=\"1\" class=\"dataframe\">\n",
       "  <thead>\n",
       "    <tr style=\"text-align: right;\">\n",
       "      <th></th>\n",
       "      <th>Product Category</th>\n",
       "      <th>Total Amount</th>\n",
       "    </tr>\n",
       "  </thead>\n",
       "  <tbody>\n",
       "    <tr>\n",
       "      <th>0</th>\n",
       "      <td>Electronics</td>\n",
       "      <td>9503.46</td>\n",
       "    </tr>\n",
       "    <tr>\n",
       "      <th>1</th>\n",
       "      <td>Fashion</td>\n",
       "      <td>11821.43</td>\n",
       "    </tr>\n",
       "    <tr>\n",
       "      <th>2</th>\n",
       "      <td>Home Goods</td>\n",
       "      <td>10178.17</td>\n",
       "    </tr>\n",
       "  </tbody>\n",
       "</table>\n",
       "</div>"
      ],
      "text/plain": [
       "  Product Category  Total Amount\n",
       "0      Electronics       9503.46\n",
       "1          Fashion      11821.43\n",
       "2       Home Goods      10178.17"
      ]
     },
     "execution_count": 50,
     "metadata": {},
     "output_type": "execute_result"
    }
   ],
   "source": [
    "# Step 1: Aggregate Total Revenue by Product Category\n",
    "revenue_by_category = df.groupby('Product Category')['Total Amount'].sum().reset_index()\n",
    "revenue_by_category"
   ]
  },
  {
   "cell_type": "code",
   "execution_count": 506,
   "id": "62585d45-00c9-46b2-adfd-fae6fa08c65c",
   "metadata": {},
   "outputs": [
    {
     "data": {
      "image/png": "[encoded data removed]",
      "text/plain": [
       "<Figure size 1000x600 with 1 Axes>"
      ]
     },
     "metadata": {},
     "output_type": "display_data"
    },
    {
     "name": "stdout",
     "output_type": "stream",
     "text": [
      "\n",
      "FILE SAVED SUCCESSFULLY ✅ \n",
      "\n",
      "FILE PATH: \n",
      "/Users/solomonayuba/Documents/Docs/School /Miva Open University/Data Science Program/300 Level/DTS 305 – 3 – Data Quality and Data Wrangling /LAB/Part1_total_revenue_by_product_category.png\n"
     ]
    }
   ],
   "source": [
    "# Step 2: Creating a Bar Chart\n",
    "\n",
    "# Customizing the plot\n",
    "plt.figure(figsize=(10,6))\n",
    "bars = plt.bar(\n",
    "    revenue_by_category['Product Category'],\n",
    "    revenue_by_category['Total Amount'],\n",
    "    color = ['skyblue', 'lightgreen', 'salmon']\n",
    ")\n",
    "\n",
    "# Adding labels and formatting\n",
    "plt.title('Total Revenue by Product Category', fontsize=16)\n",
    "plt.xlabel('Product Category', fontsize=12)\n",
    "plt.ylabel('Revenue ($)', fontsize=12)\n",
    "#plt.xticks(rotation=45, ha='left') #Rotate x-labels for readability\n",
    "\n",
    "# Add value labels on top of bars\n",
    "for bar in bars:\n",
    "    height = bar.get_height()\n",
    "    plt.text(\n",
    "        bar.get_x() + bar.get_width() / 2,\n",
    "        height + 100, #Offset for visibility\n",
    "        f'${height:,.0f}', # Format as currency\n",
    "                         ha='center',\n",
    "                         va='bottom'\n",
    "    )\n",
    "\n",
    "plt.grid(axis='y', linestyle='--', alpha=0.7)\n",
    "plt.tight_layout()\n",
    "\n",
    "# Saving the bar chart as an image\n",
    "plt.savefig('Part1_total_revenue_by_product_category.png', dpi=300, bbox_inches='tight')\n",
    "\n",
    "# Displays the plot\n",
    "plt.show()  \n",
    "\n",
    "# Verifying the file saved\n",
    "print(f\"\\nFILE SAVED SUCCESSFULLY ✅ \\n\\nFILE PATH: \\n{os.path.abspath('Part1_total_revenue_by_product_category.png')}\")\n"
   ]
  },
  {
   "cell_type": "markdown",
   "id": "560e579d-a37a-4314-850c-9e7d0aa89b08",
   "metadata": {},
   "source": [
    "### Task 5: Identify and plot the top 3 countries by total revenue."
   ]
  },
  {
   "cell_type": "code",
   "execution_count": 509,
   "id": "0b15ca71-52b2-460f-9acf-ce17bcfd6dac",
   "metadata": {},
   "outputs": [
    {
     "data": {
      "text/html": [
       "<div>\n",
       "<style scoped>\n",
       "    .dataframe tbody tr th:only-of-type {\n",
       "        vertical-align: middle;\n",
       "    }\n",
       "\n",
       "    .dataframe tbody tr th {\n",
       "        vertical-align: top;\n",
       "    }\n",
       "\n",
       "    .dataframe thead th {\n",
       "        text-align: right;\n",
       "    }\n",
       "</style>\n",
       "<table border=\"1\" class=\"dataframe\">\n",
       "  <thead>\n",
       "    <tr style=\"text-align: right;\">\n",
       "      <th></th>\n",
       "      <th>Order ID</th>\n",
       "      <th>Customer Name</th>\n",
       "      <th>Order Date</th>\n",
       "      <th>Product Category</th>\n",
       "      <th>Quantity</th>\n",
       "      <th>Price</th>\n",
       "      <th>Total Amount</th>\n",
       "      <th>Country</th>\n",
       "    </tr>\n",
       "  </thead>\n",
       "  <tbody>\n",
       "    <tr>\n",
       "      <th>0</th>\n",
       "      <td>1</td>\n",
       "      <td>Customer 1</td>\n",
       "      <td>2022-06-01</td>\n",
       "      <td>Electronics</td>\n",
       "      <td>5</td>\n",
       "      <td>102.27</td>\n",
       "      <td>511.35</td>\n",
       "      <td>United States</td>\n",
       "    </tr>\n",
       "    <tr>\n",
       "      <th>1</th>\n",
       "      <td>2</td>\n",
       "      <td>Customer 2</td>\n",
       "      <td>2022-04-28</td>\n",
       "      <td>Fashion</td>\n",
       "      <td>3</td>\n",
       "      <td>195.72</td>\n",
       "      <td>587.16</td>\n",
       "      <td>United States</td>\n",
       "    </tr>\n",
       "    <tr>\n",
       "      <th>2</th>\n",
       "      <td>3</td>\n",
       "      <td>Customer 3</td>\n",
       "      <td>2022-04-08</td>\n",
       "      <td>Home Goods</td>\n",
       "      <td>5</td>\n",
       "      <td>176.54</td>\n",
       "      <td>882.70</td>\n",
       "      <td>United States</td>\n",
       "    </tr>\n",
       "    <tr>\n",
       "      <th>3</th>\n",
       "      <td>4</td>\n",
       "      <td>Customer 4</td>\n",
       "      <td>2022-10-20</td>\n",
       "      <td>Fashion</td>\n",
       "      <td>5</td>\n",
       "      <td>74.25</td>\n",
       "      <td>371.25</td>\n",
       "      <td>United States</td>\n",
       "    </tr>\n",
       "    <tr>\n",
       "      <th>4</th>\n",
       "      <td>5</td>\n",
       "      <td>Customer 5</td>\n",
       "      <td>2022-06-19</td>\n",
       "      <td>Fashion</td>\n",
       "      <td>3</td>\n",
       "      <td>192.70</td>\n",
       "      <td>578.10</td>\n",
       "      <td>United States</td>\n",
       "    </tr>\n",
       "    <tr>\n",
       "      <th>...</th>\n",
       "      <td>...</td>\n",
       "      <td>...</td>\n",
       "      <td>...</td>\n",
       "      <td>...</td>\n",
       "      <td>...</td>\n",
       "      <td>...</td>\n",
       "      <td>...</td>\n",
       "      <td>...</td>\n",
       "    </tr>\n",
       "    <tr>\n",
       "      <th>95</th>\n",
       "      <td>96</td>\n",
       "      <td>Customer 96</td>\n",
       "      <td>2022-10-14</td>\n",
       "      <td>Fashion</td>\n",
       "      <td>1</td>\n",
       "      <td>177.59</td>\n",
       "      <td>177.59</td>\n",
       "      <td>United States</td>\n",
       "    </tr>\n",
       "    <tr>\n",
       "      <th>96</th>\n",
       "      <td>97</td>\n",
       "      <td>Customer 97</td>\n",
       "      <td>2022-12-25</td>\n",
       "      <td>Fashion</td>\n",
       "      <td>1</td>\n",
       "      <td>97.13</td>\n",
       "      <td>283.10</td>\n",
       "      <td>United States</td>\n",
       "    </tr>\n",
       "    <tr>\n",
       "      <th>97</th>\n",
       "      <td>98</td>\n",
       "      <td>Customer 98</td>\n",
       "      <td>2022-01-25</td>\n",
       "      <td>Fashion</td>\n",
       "      <td>1</td>\n",
       "      <td>147.59</td>\n",
       "      <td>147.59</td>\n",
       "      <td>United States</td>\n",
       "    </tr>\n",
       "    <tr>\n",
       "      <th>98</th>\n",
       "      <td>99</td>\n",
       "      <td>Customer 99</td>\n",
       "      <td>2022-06-15</td>\n",
       "      <td>Home Goods</td>\n",
       "      <td>1</td>\n",
       "      <td>85.81</td>\n",
       "      <td>85.81</td>\n",
       "      <td>United States</td>\n",
       "    </tr>\n",
       "    <tr>\n",
       "      <th>99</th>\n",
       "      <td>100</td>\n",
       "      <td>Customer 100</td>\n",
       "      <td>2022-10-17</td>\n",
       "      <td>Fashion</td>\n",
       "      <td>2</td>\n",
       "      <td>181.77</td>\n",
       "      <td>363.54</td>\n",
       "      <td>United States</td>\n",
       "    </tr>\n",
       "  </tbody>\n",
       "</table>\n",
       "<p>100 rows × 8 columns</p>\n",
       "</div>"
      ],
      "text/plain": [
       "    Order ID Customer Name  Order Date Product Category  Quantity   Price  \\\n",
       "0          1    Customer 1  2022-06-01      Electronics         5  102.27   \n",
       "1          2    Customer 2  2022-04-28          Fashion         3  195.72   \n",
       "2          3    Customer 3  2022-04-08       Home Goods         5  176.54   \n",
       "3          4    Customer 4  2022-10-20          Fashion         5   74.25   \n",
       "4          5    Customer 5  2022-06-19          Fashion         3  192.70   \n",
       "..       ...           ...         ...              ...       ...     ...   \n",
       "95        96   Customer 96  2022-10-14          Fashion         1  177.59   \n",
       "96        97   Customer 97  2022-12-25          Fashion         1   97.13   \n",
       "97        98   Customer 98  2022-01-25          Fashion         1  147.59   \n",
       "98        99   Customer 99  2022-06-15       Home Goods         1   85.81   \n",
       "99       100  Customer 100  2022-10-17          Fashion         2  181.77   \n",
       "\n",
       "    Total Amount        Country  \n",
       "0         511.35  United States  \n",
       "1         587.16  United States  \n",
       "2         882.70  United States  \n",
       "3         371.25  United States  \n",
       "4         578.10  United States  \n",
       "..           ...            ...  \n",
       "95        177.59  United States  \n",
       "96        283.10  United States  \n",
       "97        147.59  United States  \n",
       "98         85.81  United States  \n",
       "99        363.54  United States  \n",
       "\n",
       "[100 rows x 8 columns]"
      ]
     },
     "execution_count": 509,
     "metadata": {},
     "output_type": "execute_result"
    }
   ],
   "source": [
    "df"
   ]
  },
  {
   "cell_type": "code",
   "execution_count": 511,
   "id": "7d264334-42c7-4624-b7af-05b9af05f58c",
   "metadata": {},
   "outputs": [
    {
     "data": {
      "text/html": [
       "<div>\n",
       "<style scoped>\n",
       "    .dataframe tbody tr th:only-of-type {\n",
       "        vertical-align: middle;\n",
       "    }\n",
       "\n",
       "    .dataframe tbody tr th {\n",
       "        vertical-align: top;\n",
       "    }\n",
       "\n",
       "    .dataframe thead th {\n",
       "        text-align: right;\n",
       "    }\n",
       "</style>\n",
       "<table border=\"1\" class=\"dataframe\">\n",
       "  <thead>\n",
       "    <tr style=\"text-align: right;\">\n",
       "      <th></th>\n",
       "      <th>Country</th>\n",
       "      <th>Total Amount</th>\n",
       "    </tr>\n",
       "  </thead>\n",
       "  <tbody>\n",
       "    <tr>\n",
       "      <th>0</th>\n",
       "      <td>United States</td>\n",
       "      <td>31503.06</td>\n",
       "    </tr>\n",
       "  </tbody>\n",
       "</table>\n",
       "</div>"
      ],
      "text/plain": [
       "         Country  Total Amount\n",
       "0  United States      31503.06"
      ]
     },
     "execution_count": 511,
     "metadata": {},
     "output_type": "execute_result"
    }
   ],
   "source": [
    "# Step 1: Group by Country column and sum Total Amount (revenue)\n",
    "revenue_by_country = df.groupby('Country')['Total Amount'].sum().reset_index()\n",
    "\n",
    "# sort by revenue (descending order) to get top 3\n",
    "top_countries = revenue_by_country.sort_values('Total Amount', ascending=False).head(3)\n",
    "top_countries"
   ]
  },
  {
   "cell_type": "code",
   "execution_count": 513,
   "id": "ddd765c3-e3c6-42d7-a53a-7e793b380a2e",
   "metadata": {},
   "outputs": [
    {
     "data": {
      "image/png": "[encoded data removed]",
      "text/plain": [
       "<Figure size 1000x600 with 1 Axes>"
      ]
     },
     "metadata": {},
     "output_type": "display_data"
    },
    {
     "name": "stdout",
     "output_type": "stream",
     "text": [
      "\n",
      "FILE SAVED SUCCESSFULLY ✅ \n",
      "\n",
      "FILE PATH: \n",
      "/Users/solomonayuba/Documents/Docs/School /Miva Open University/Data Science Program/300 Level/DTS 305 – 3 – Data Quality and Data Wrangling /LAB/Part1_top_3_countries_by_revenue.png\n"
     ]
    }
   ],
   "source": [
    "# Customize the plot\n",
    "plt.figure(figsize=(10, 6))\n",
    "bars = plt.bar(\n",
    "    top_countries['Country'], \n",
    "    top_countries['Total Amount'],\n",
    "    color=['#1f77b4', '#ff7f0e', '#2ca02c']  # Blue, Orange, Green\n",
    ")\n",
    "\n",
    "# Add labels and formatting\n",
    "plt.title('Top 3 Countries by Revenue', fontsize=16, pad=20)\n",
    "plt.xlabel('Country', fontsize=12)\n",
    "plt.ylabel('Total Revenue ($)', fontsize=12)\n",
    "plt.xticks(fontsize=12)\n",
    "\n",
    "# Add value labels on bars\n",
    "for bar in bars:\n",
    "    height = bar.get_height()\n",
    "    plt.text(\n",
    "        bar.get_x() + bar.get_width() / 2, \n",
    "        height, \n",
    "        f'${height:,.0f}',  # Format as currency\n",
    "        ha='center', \n",
    "        va='bottom',\n",
    "        fontsize=12\n",
    "    )\n",
    "\n",
    "plt.grid(axis='y', linestyle='--', alpha=0.3)\n",
    "plt.tight_layout()\n",
    "\n",
    "# Saving the bar chart as image\n",
    "\n",
    "plt.savefig('Part1_top_3_countries_by_revenue.png', dpi=300, bbox_inches='tight')\n",
    "\n",
    "# Displays the plot\n",
    "plt.show()  \n",
    "\n",
    "# Verifying the file saved\n",
    "print(f\"\\nFILE SAVED SUCCESSFULLY ✅ \\n\\nFILE PATH: \\n{os.path.abspath('Part1_top_3_countries_by_revenue.png')}\")\n",
    "plt.show()"
   ]
  },
  {
   "cell_type": "markdown",
   "id": "2720249d-059f-4517-a058-74026385b19f",
   "metadata": {},
   "source": [
    "### Exporting cleaned dataset as CSV file"
   ]
  },
  {
   "cell_type": "code",
   "execution_count": 516,
   "id": "63aa23bd-d9ae-4326-bf8d-8d20ff9bfccd",
   "metadata": {},
   "outputs": [
    {
     "name": "stdout",
     "output_type": "stream",
     "text": [
      "FILE SAVED as: 'Part1_cleaned_sales_data.csv'\n",
      "\n",
      "FILE SAVED SUCCESSFULLY ✅ \n",
      "\n",
      "FILE PATH: \n",
      "/Users/solomonayuba/Documents/Docs/School /Miva Open University/Data Science Program/300 Level/DTS 305 – 3 – Data Quality and Data Wrangling /LAB/Part1_cleaned_sales.data.csv\n"
     ]
    }
   ],
   "source": [
    "# Saving to the current working directory\n",
    "\n",
    "df.to_csv('Part1_cleaned_sales_data.csv', index=False) \n",
    "print(\"FILE SAVED as: 'Part1_cleaned_sales_data.csv'\")\n",
    "\n",
    "# Verifying Export\n",
    "print(f\"\\nFILE SAVED SUCCESSFULLY ✅ \\n\\nFILE PATH: \\n{os.path.abspath('Part1_cleaned_sales.data.csv')}\")"
   ]
  }
 ],
 "metadata": {
  "kernelspec": {
   "display_name": "Python 3 (ipykernel)",
   "language": "python",
   "name": "python3"
  },
  "language_info": {
   "codemirror_mode": {
    "name": "ipython",
    "version": 3
   },
   "file_extension": ".py",
   "mimetype": "text/x-python",
   "name": "python",
   "nbconvert_exporter": "python",
   "pygments_lexer": "ipython3",
   "version": "3.11.7"
  }
 },
 "nbformat": 4,
 "nbformat_minor": 5
}
